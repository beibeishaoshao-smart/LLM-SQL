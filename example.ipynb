{
 "cells": [
  {
   "cell_type": "code",
   "execution_count": 1,
   "id": "29b308fa",
   "metadata": {},
   "outputs": [],
   "source": [
    "from sqlalchemy import create_engine\n",
    "from langchain_community.utilities import SQLDatabase\n",
    "\n",
    "username = 'root'\n",
    "password = 'Glxh2002$'\n",
    "host = 'localhost'\n",
    "port = '3306'\n",
    "database = 'operational_data'"
   ]
  },
  {
   "cell_type": "code",
   "execution_count": 2,
   "id": "09808761",
   "metadata": {},
   "outputs": [
    {
     "name": "stdout",
     "output_type": "stream",
     "text": [
      "Requirement already satisfied: pymysql in /opt/anaconda3/lib/python3.12/site-packages (1.1.1)\n"
     ]
    }
   ],
   "source": [
    "!pip install pymysql"
   ]
  },
  {
   "cell_type": "code",
   "execution_count": 3,
   "id": "4985b934",
   "metadata": {},
   "outputs": [],
   "source": [
    "connection_uri = f\"mysql+pymysql://{username}:{password}@{host}:{port}/{database}\"\n",
    "\n",
    "engine = create_engine(connection_uri)\n",
    "\n",
    "db = SQLDatabase.from_uri(connection_uri)"
   ]
  },
  {
   "cell_type": "code",
   "execution_count": 4,
   "id": "f49665a2",
   "metadata": {},
   "outputs": [
    {
     "name": "stdout",
     "output_type": "stream",
     "text": [
      "SELECT COUNT(DISTINCT `type`) FROM `MCT`\n"
     ]
    }
   ],
   "source": [
    "#Querying the database with chains\n",
    "from dotenv import load_dotenv\n",
    "load_dotenv()\n",
    "\n",
    "from langchain_openai import OpenAI\n",
    "from langchain.chains import create_sql_query_chain\n",
    "from langchain_community.utilities import SQLDatabase\n",
    "\n",
    "llm = OpenAI(temperature=0,verbose=True)\n",
    "\n",
    "query_chain = create_sql_query_chain(llm, db)\n",
    "\n",
    "response = query_chain.invoke({\"question\": \"How many different types of MCT?\"})\n",
    "print(response)"
   ]
  },
  {
   "cell_type": "code",
   "execution_count": null,
   "id": "9340baca",
   "metadata": {},
   "outputs": [],
   "source": []
  }
 ],
 "metadata": {
  "kernelspec": {
   "display_name": "base",
   "language": "python",
   "name": "python3"
  },
  "language_info": {
   "codemirror_mode": {
    "name": "ipython",
    "version": 3
   },
   "file_extension": ".py",
   "mimetype": "text/x-python",
   "name": "python",
   "nbconvert_exporter": "python",
   "pygments_lexer": "ipython3",
   "version": "3.12.7"
  }
 },
 "nbformat": 4,
 "nbformat_minor": 5
}
