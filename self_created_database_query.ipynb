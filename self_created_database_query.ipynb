{
 "cells": [
  {
   "cell_type": "code",
   "execution_count": 5,
   "id": "7076b5cd",
   "metadata": {},
   "outputs": [],
   "source": [
    "import sqlite3\n",
    "\n",
    "conn = sqlite3.connect('Flower.db')\n",
    "cursor = conn.cursor()"
   ]
  },
  {
   "cell_type": "code",
   "execution_count": 6,
   "id": "78a450b3",
   "metadata": {},
   "outputs": [
    {
     "data": {
      "text/plain": [
       "<sqlite3.Cursor at 0x1132a2540>"
      ]
     },
     "execution_count": 6,
     "metadata": {},
     "output_type": "execute_result"
    }
   ],
   "source": [
    "cursor.execute('''\n",
    "        CREATE TABLE Flowers(\n",
    "            ID INTEGER PRIMARY KEY,\n",
    "            Name TEXT NOT NULL,\n",
    "            Type TEXT NOT NULL,\n",
    "            Source TEXT NOT NULL,\n",
    "            PurchasePrice REAL,\n",
    "            SalePrice REAL,\n",
    "            StockQuantity INTEGER,\n",
    "            SoldQuantity INTEGER,\n",
    "            ExpiryDate DATE,\n",
    "            Description TEXT,\n",
    "            EntryDate DATE DEFAUL CURRENT_DATE\n",
    "        );\n",
    "''')"
   ]
  },
  {
   "cell_type": "code",
   "execution_count": 7,
   "id": "497be387",
   "metadata": {},
   "outputs": [],
   "source": [
    "flowers = [\n",
    "    ('Rose','Flower','France',1.2,2.5,100,10,'2024-04-08','A beautiful red rose'),\n",
    "    ('Tulip','Flower','Netherlands',0.8,2.0,150,25,'2024-04-08','A colorful tulip'),\n",
    "    ('Lily','Flower','China',1.5,3.0,80,5,'2024-04-08','A elegant white lily'),\n",
    "    ('Daisy','Flower','USA',0.7,1.8,120,15,'2024-04-08','A cheerful daisy flower'),\n",
    "    ('Orchid','Flower','Brazil',2.0,4.0,50,2,'2024-04-08','A delicate purple orchid'),\n",
    "]"
   ]
  },
  {
   "cell_type": "code",
   "execution_count": 8,
   "id": "a93d9ca2",
   "metadata": {},
   "outputs": [],
   "source": [
    "for flower in flowers:\n",
    "    cursor.execute('''\n",
    "INSERT INTO Flowers (Name,Type,Source,PurchasePrice,SalePrice,StockQuantity,SoldQuantity,ExpiryDate,Description)\n",
    "                   VALUES (?, ?, ?, ?, ?, ?, ?, ?, ?);\n",
    "''',flower)\n",
    "    \n",
    "conn.commit()\n",
    "\n",
    "conn.close()"
   ]
  },
  {
   "cell_type": "code",
   "execution_count": 9,
   "id": "ec9b7028",
   "metadata": {},
   "outputs": [
    {
     "name": "stdout",
     "output_type": "stream",
     "text": [
      "SELECT COUNT(DISTINCT Type) FROM Flowers\n"
     ]
    }
   ],
   "source": [
    "# Querying the database with Chains:pip install lanchain-experimental\n",
    "from dotenv import load_dotenv\n",
    "load_dotenv()\n",
    "\n",
    "from langchain_openai import OpenAI\n",
    "\n",
    "from langchain_community.utilities import SQLDatabase\n",
    "from langchain.chains import create_sql_query_chain\n",
    "from langchain_community.utilities import SQLDatabase\n",
    "\n",
    "db = SQLDatabase.from_uri(\"sqlite:///Flower.db\")\n",
    "\n",
    "llm = OpenAI(temperature=0,verbose=True)\n",
    "\n",
    "query_chain = create_sql_query_chain(llm, db)\n",
    "\n",
    "response = query_chain.invoke({\"question\": \"How many different types of flowers?\"})\n",
    "print(response)"
   ]
  },
  {
   "cell_type": "code",
   "execution_count": 10,
   "id": "bc613999",
   "metadata": {},
   "outputs": [
    {
     "name": "stdout",
     "output_type": "stream",
     "text": [
      "SELECT \"Name\" FROM \"Flowers\" ORDER BY \"StockQuantity\" ASC LIMIT 1\n"
     ]
    }
   ],
   "source": [
    "response = query_chain.invoke({\"question\": \"Which flower has the least inventory?\"})\n",
    "print(response)\n",
    "# response = db_chain.run(\"What is the average selling price?\")\n",
    "# print(response)"
   ]
  },
  {
   "cell_type": "code",
   "execution_count": 11,
   "id": "e3355303",
   "metadata": {},
   "outputs": [
    {
     "name": "stderr",
     "output_type": "stream",
     "text": [
      "/var/folders/tj/g02zt01x1n35z6_cfnf78t840000gn/T/ipykernel_65057/954638947.py:26: LangChainDeprecationWarning: The method `Chain.run` was deprecated in langchain 0.1.0 and will be removed in 1.0. Use :meth:`~invoke` instead.\n",
      "  response = agent_executor.run(question)\n"
     ]
    },
    {
     "name": "stdout",
     "output_type": "stream",
     "text": [
      "\n",
      "\n",
      "\u001b[1m> Entering new SQL Agent Executor chain...\u001b[0m\n",
      "\u001b[32;1m\u001b[1;3mAction: sql_db_list_tables\n",
      "Action Input:\n",
      "\u001b[0m\u001b[38;5;200m\u001b[1;3mFlowers\u001b[0m\u001b[32;1m\u001b[1;3m I should query the schema of the Flowers table to see what columns I can use.\n",
      "Action: sql_db_schema\n",
      "Action Input: Flowers\u001b[0m\u001b[33;1m\u001b[1;3m\n",
      "CREATE TABLE \"Flowers\" (\n",
      "\t\"ID\" INTEGER, \n",
      "\t\"Name\" TEXT NOT NULL, \n",
      "\t\"Type\" TEXT NOT NULL, \n",
      "\t\"Source\" TEXT NOT NULL, \n",
      "\t\"PurchasePrice\" REAL, \n",
      "\t\"SalePrice\" REAL, \n",
      "\t\"StockQuantity\" INTEGER, \n",
      "\t\"SoldQuantity\" INTEGER, \n",
      "\t\"ExpiryDate\" DATE, \n",
      "\t\"Description\" TEXT, \n",
      "\t\"EntryDate\" NUMERIC, \n",
      "\tPRIMARY KEY (\"ID\")\n",
      ")\n",
      "\n",
      "/*\n",
      "3 rows from Flowers table:\n",
      "ID\tName\tType\tSource\tPurchasePrice\tSalePrice\tStockQuantity\tSoldQuantity\tExpiryDate\tDescription\tEntryDate\n",
      "1\tRose\tFlower\tFrance\t1.2\t2.5\t100\t10\t2024-04-08\tA beautiful red rose\tNone\n",
      "2\tTulip\tFlower\tNetherlands\t0.8\t2.0\t150\t25\t2024-04-08\tA colorful tulip\tNone\n",
      "3\tLily\tFlower\tChina\t1.5\t3.0\t80\t5\t2024-04-08\tA elegant white lily\tNone\n",
      "*/\u001b[0m\u001b[32;1m\u001b[1;3m I should query the Flowers table to get the flower with the least inventory.\n",
      "Action: sql_db_query\n",
      "Action Input: SELECT Name FROM Flowers ORDER BY StockQuantity ASC LIMIT 1\u001b[0m\u001b[36;1m\u001b[1;3m[('Orchid',)]\u001b[0m\u001b[32;1m\u001b[1;3m I now know the final answer\n",
      "Final Answer: Orchid\u001b[0m\n",
      "\n",
      "\u001b[1m> Finished chain.\u001b[0m\n",
      "Orchid\n",
      "\n",
      "\n",
      "\u001b[1m> Entering new SQL Agent Executor chain...\u001b[0m\n",
      "\u001b[32;1m\u001b[1;3mAction: sql_db_list_tables\n",
      "Action Input:\n",
      "\u001b[0m\u001b[38;5;200m\u001b[1;3mFlowers\u001b[0m\u001b[32;1m\u001b[1;3mI should query the schema of the Flowers table to see what columns I can use.\n",
      "Action: sql_db_schema\n",
      "Action Input: Flowers\u001b[0m\u001b[33;1m\u001b[1;3m\n",
      "CREATE TABLE \"Flowers\" (\n",
      "\t\"ID\" INTEGER, \n",
      "\t\"Name\" TEXT NOT NULL, \n",
      "\t\"Type\" TEXT NOT NULL, \n",
      "\t\"Source\" TEXT NOT NULL, \n",
      "\t\"PurchasePrice\" REAL, \n",
      "\t\"SalePrice\" REAL, \n",
      "\t\"StockQuantity\" INTEGER, \n",
      "\t\"SoldQuantity\" INTEGER, \n",
      "\t\"ExpiryDate\" DATE, \n",
      "\t\"Description\" TEXT, \n",
      "\t\"EntryDate\" NUMERIC, \n",
      "\tPRIMARY KEY (\"ID\")\n",
      ")\n",
      "\n",
      "/*\n",
      "3 rows from Flowers table:\n",
      "ID\tName\tType\tSource\tPurchasePrice\tSalePrice\tStockQuantity\tSoldQuantity\tExpiryDate\tDescription\tEntryDate\n",
      "1\tRose\tFlower\tFrance\t1.2\t2.5\t100\t10\t2024-04-08\tA beautiful red rose\tNone\n",
      "2\tTulip\tFlower\tNetherlands\t0.8\t2.0\t150\t25\t2024-04-08\tA colorful tulip\tNone\n",
      "3\tLily\tFlower\tChina\t1.5\t3.0\t80\t5\t2024-04-08\tA elegant white lily\tNone\n",
      "*/\u001b[0m\u001b[32;1m\u001b[1;3m I should query the SalePrice column from the Flowers table and use the AVG function to calculate the average selling price.\n",
      "Action: sql_db_query\n",
      "Action Input: SELECT AVG(SalePrice) FROM Flowers\u001b[0m\u001b[36;1m\u001b[1;3m[(2.66,)]\u001b[0m\u001b[32;1m\u001b[1;3m I now know the final answer\n",
      "Final Answer: 2.66\u001b[0m\n",
      "\n",
      "\u001b[1m> Finished chain.\u001b[0m\n",
      "2.66\n"
     ]
    }
   ],
   "source": [
    "\n",
    "from langchain_community.utilities import SQLDatabase\n",
    "\n",
    "from langchain_openai import OpenAI\n",
    "from langchain_community.agent_toolkits import SQLDatabaseToolkit\n",
    "from langchain.agents import create_sql_agent\n",
    "from langchain.agents.agent_types import AgentType\n",
    "\n",
    "\n",
    "db = SQLDatabase.from_uri(\"sqlite:///Flower.db\")\n",
    "\n",
    "llm = OpenAI(temperature=0,verbose=True)\n",
    "\n",
    "agent_executor = create_sql_agent(\n",
    "    llm,\n",
    "    toolkit=SQLDatabaseToolkit(db=db,llm=llm),\n",
    "    verbose=True,\n",
    "    agent_type=AgentType.ZERO_SHOT_REACT_DESCRIPTION,\n",
    ")\n",
    "\n",
    "questions = [\n",
    "    \"Which flower has the least inventory?\",\n",
    "    \"What is the average selling price?\"\n",
    "]\n",
    "\n",
    "for question in questions:\n",
    "    response = agent_executor.run(question)\n",
    "    print(response)"
   ]
  },
  {
   "cell_type": "code",
   "execution_count": null,
   "id": "627d48f0",
   "metadata": {},
   "outputs": [],
   "source": []
  }
 ],
 "metadata": {
  "kernelspec": {
   "display_name": "base",
   "language": "python",
   "name": "python3"
  },
  "language_info": {
   "codemirror_mode": {
    "name": "ipython",
    "version": 3
   },
   "file_extension": ".py",
   "mimetype": "text/x-python",
   "name": "python",
   "nbconvert_exporter": "python",
   "pygments_lexer": "ipython3",
   "version": "3.12.7"
  }
 },
 "nbformat": 4,
 "nbformat_minor": 5
}
